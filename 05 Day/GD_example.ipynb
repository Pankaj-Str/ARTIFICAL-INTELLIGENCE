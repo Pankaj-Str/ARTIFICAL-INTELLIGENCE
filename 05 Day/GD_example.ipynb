{
 "cells": [
  {
   "cell_type": "code",
   "execution_count": 1,
   "id": "6829a75f",
   "metadata": {},
   "outputs": [],
   "source": [
    "import numpy as np\n",
    "import matplotlib.pyplot as plt\n",
    "\n",
    "# Create some data\n",
    "np.random.seed(42)\n",
    "x = 2 * np.random.rand(100, 1)\n",
    "y = 4 + 3 * x + np.random.randn(100, 1)"
   ]
  },
  {
   "cell_type": "code",
   "execution_count": 2,
   "id": "b8374999",
   "metadata": {},
   "outputs": [],
   "source": [
    "\n",
    "# SGD parameters\n",
    "n_epochs = 50\n",
    "t0, t1 = 5, 50  # learning schedule hyperparameters"
   ]
  },
  {
   "cell_type": "code",
   "execution_count": 3,
   "id": "aca375e3",
   "metadata": {},
   "outputs": [
    {
     "name": "stdout",
     "output_type": "stream",
     "text": [
      "SGD Model Parameters: \n",
      "[[4.19000137]\n",
      " [2.73381258]]\n"
     ]
    }
   ],
   "source": [
    "# Function to determine the learning rate at each step\n",
    "def learning_schedule(t):\n",
    "    return t0 / (t + t1)\n",
    "\n",
    "# Initial parameters\n",
    "theta = np.random.randn(2,1)  # random initialization\n",
    "\n",
    "# Add x0 = 1 to each instance\n",
    "X_b = np.c_[np.ones((100, 1)), x]\n",
    "\n",
    "# Perform Stochastic Gradient Descent\n",
    "for epoch in range(n_epochs):\n",
    "    for i in range(100):\n",
    "        random_index = np.random.randint(100)\n",
    "        xi = X_b[random_index:random_index+1]\n",
    "        yi = y[random_index:random_index+1]\n",
    "        gradients = 2 * xi.T.dot(xi.dot(theta) - yi)\n",
    "        eta = learning_schedule(epoch * 100 + i)\n",
    "        theta -= eta * gradients\n",
    "\n",
    "print(f\"SGD Model Parameters: \\n{theta}\")"
   ]
  },
  {
   "cell_type": "code",
   "execution_count": 27,
   "id": "4778a836",
   "metadata": {},
   "outputs": [],
   "source": [
    "# Generate random data around a line\n",
    "np.random.seed(0)\n",
    "x = 2 * np.random.rand(100, 1)\n",
    "y = 3 + 2 * x + np.random.randn(100, 1)"
   ]
  },
  {
   "cell_type": "code",
   "execution_count": 29,
   "id": "bfd5f3bd",
   "metadata": {},
   "outputs": [
    {
     "name": "stdout",
     "output_type": "stream",
     "text": [
      "The model parameters after Gradient Descent: \n",
      "[[3.22215108]\n",
      " [1.96846751]]\n"
     ]
    }
   ],
   "source": [
    "# Hyperparameters\n",
    "learning_rate = 0.13\n",
    "n_iterations = 1000\n",
    "m = 100  # number of data points\n",
    "\n",
    "# Initial parameters\n",
    "theta = np.random.randn(2,1)  # random initialization\n",
    "\n",
    "# Add x0 = 1 to each instance\n",
    "X_b = np.c_[np.ones((100, 1)), x]\n",
    "\n",
    "# Gradient Descent\n",
    "for iteration in range(n_iterations):\n",
    "    gradients = 2/m * X_b.T.dot(X_b.dot(theta) - y)\n",
    "    theta -= learning_rate * gradients\n",
    "\n",
    "print(f\"The model parameters after Gradient Descent: \\n{theta}\")"
   ]
  },
  {
   "cell_type": "code",
   "execution_count": 30,
   "id": "0fd8e339",
   "metadata": {},
   "outputs": [
    {
     "data": {
      "image/png": "[encoded data removed]",
      "text/plain": [
       "<Figure size 640x480 with 1 Axes>"
      ]
     },
     "metadata": {},
     "output_type": "display_data"
    }
   ],
   "source": [
    "# Plot the results\n",
    "plt.plot(x, y, \"b.\")\n",
    "x_new = np.array([[0], [2]])\n",
    "x_new_b = np.c_[np.ones((2, 1)), x_new]  # add x0 = 1 to each instance\n",
    "y_predict = x_new_b.dot(theta)\n",
    "plt.plot(x_new, y_predict, \"r-\")\n",
    "plt.xlabel(\"$x_1$\", fontsize=18)\n",
    "plt.ylabel(\"$y$\", rotation=0, fontsize=18)\n",
    "plt.title(\"Linear Regression with Gradient Descent\")\n",
    "plt.axis([0, 2, 0, 15])\n",
    "plt.show()"
   ]
  }
 ],
 "metadata": {
  "kernelspec": {
   "display_name": "Python 3",
   "language": "python",
   "name": "python3"
  },
  "language_info": {
   "codemirror_mode": {
    "name": "ipython",
    "version": 3
   },
   "file_extension": ".py",
   "mimetype": "text/x-python",
   "name": "python",
   "nbconvert_exporter": "python",
   "pygments_lexer": "ipython3",
   "version": "3.13.2"
  }
 },
 "nbformat": 4,
 "nbformat_minor": 5
}
