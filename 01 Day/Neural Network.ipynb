{
 "cells": [
  {
   "cell_type": "code",
   "execution_count": 1,
   "id": "b1b6936b",
   "metadata": {},
   "outputs": [
    {
     "name": "stdout",
     "output_type": "stream",
     "text": [
      "Neuron's decision: Go for a walk\n"
     ]
    }
   ],
   "source": [
    "# Neural Network\n",
    "\n",
    "import numpy as np\n",
    "\n",
    "class SimpleNeuron:\n",
    "    def __init__(self):\n",
    "        # Initialize weights randomly\n",
    "        self.weights = np.random.rand(3)  # Three weights for our three inputs\n",
    "        self.bias = np.random.rand(1)     # Bias term\n",
    "    \n",
    "    def activation_function(self, x):\n",
    "        # Simple step function\n",
    "        return 1 if x >= 0 else 0\n",
    "    \n",
    "    def process(self, inputs):\n",
    "        # Calculate weighted sum\n",
    "        weighted_sum = np.dot(inputs, self.weights) + self.bias\n",
    "        \n",
    "        # Apply activation function\n",
    "        output = self.activation_function(weighted_sum)\n",
    "        \n",
    "        return output\n",
    "\n",
    "# Example usage\n",
    "neuron = SimpleNeuron()\n",
    "# Sample inputs: [temperature, rain_chance, energy_level]\n",
    "inputs = np.array([0.8, 0.2, 0.7])  \n",
    "\n",
    "result = neuron.process(inputs)\n",
    "print(f\"Neuron's decision: {'Go for a walk' if result == 1 else 'Stay home'}\")"
   ]
  }
 ],
 "metadata": {
  "kernelspec": {
   "display_name": "Python 3",
   "language": "python",
   "name": "python3"
  },
  "language_info": {
   "codemirror_mode": {
    "name": "ipython",
    "version": 3
   },
   "file_extension": ".py",
   "mimetype": "text/x-python",
   "name": "python",
   "nbconvert_exporter": "python",
   "pygments_lexer": "ipython3",
   "version": "3.13.3"
  }
 },
 "nbformat": 4,
 "nbformat_minor": 5
}
