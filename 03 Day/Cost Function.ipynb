{
 "cells": [
  {
   "cell_type": "code",
   "execution_count": 2,
   "metadata": {},
   "outputs": [
    {
     "name": "stdout",
     "output_type": "stream",
     "text": [
      "Mean Squared Error Cost: 0.03250000000000006\n",
      "Mean Squared Error Gradient: [ 0.05  0.1  -0.1   0.1 ]\n"
     ]
    }
   ],
   "source": [
    "import numpy as np\n",
    "class CostFunctions:\n",
    "\t@staticmethod\n",
    "\tdef mean_squared_error(y_true, y_pred):\n",
    "\t\tcost = np.mean((y_true - y_pred) ** 2)\n",
    "\t\tgrad = 2 * (y_pred - y_true) / y_true.size\n",
    "\t\treturn cost, grad\n",
    "\n",
    "# Example for Mean Squared Error\n",
    "y_true_reg = np.array([1.0, 2.0, 3.0, 4.0])\n",
    "y_pred_reg = np.array([1.1, 2.2, 2.8, 4.2])\n",
    "mse_cost, mse_grad = CostFunctions.mean_squared_error(y_true_reg, y_pred_reg)\n",
    "print(\"Mean Squared Error Cost:\", mse_cost)\n",
    "print(\"Mean Squared Error Gradient:\", mse_grad)\n",
    "\n"
   ]
  },
  {
   "cell_type": "code",
   "execution_count": 3,
   "metadata": {},
   "outputs": [
    {
     "name": "stdout",
     "output_type": "stream",
     "text": [
      "\n",
      "Binary Cross-Entropy Cost: 0.164252033486018\n",
      "Binary Cross-Entropy Gradient: [-0.27777778  0.27777778 -0.3125      0.3125    ]\n"
     ]
    }
   ],
   "source": [
    "# ...existing code...\n",
    "class CostFunctions:\n",
    "    @staticmethod\n",
    "    def mean_squared_error(y_true, y_pred):\n",
    "        cost = np.mean((y_true - y_pred) ** 2)\n",
    "        grad = 2 * (y_pred - y_true) / y_true.size\n",
    "        return cost, grad\n",
    "\n",
    "    @staticmethod\n",
    "    def binary_cross_entropy(y_true, y_pred):\n",
    "        eps = 1e-15  # to avoid log(0)\n",
    "        y_pred = np.clip(y_pred, eps, 1 - eps)\n",
    "        cost = -np.mean(y_true * np.log(y_pred) + (1 - y_true) * np.log(1 - y_pred))\n",
    "        grad = (y_pred - y_true) / (y_pred * (1 - y_pred) * y_true.size)\n",
    "        return cost, grad\n",
    "# ...existing code...\n",
    "\n",
    "\n",
    "# Example for Binary Cross-Entropy\n",
    "y_true_bin = np.array([1, 0, 1, 0])\n",
    "y_pred_bin = np.array([0.9, 0.1, 0.8, 0.2])\n",
    "bce_cost, bce_grad = CostFunctions.binary_cross_entropy(y_true_bin, y_pred_bin)\n",
    "print(\"\\nBinary Cross-Entropy Cost:\", bce_cost)\n",
    "print(\"Binary Cross-Entropy Gradient:\", bce_grad)\n",
    "\n"
   ]
  },
  {
   "cell_type": "code",
   "execution_count": 8,
   "metadata": {},
   "outputs": [
    {
     "name": "stdout",
     "output_type": "stream",
     "text": [
      "\n",
      "Categorical Cross-Entropy Cost: 0.3121644797305582\n",
      "Categorical Cross-Entropy Gradient: [[-0.41666667  0.          0.        ]\n",
      " [ 0.         -0.47619048  0.        ]\n",
      " [ 0.          0.         -0.47619048]]\n"
     ]
    }
   ],
   "source": [
    "# ...existing code...\n",
    "class CostFunctions:\n",
    "    @staticmethod\n",
    "    def mean_squared_error(y_true, y_pred):\n",
    "        cost = np.mean((y_true - y_pred) ** 2)\n",
    "        grad = 2 * (y_pred - y_true) / y_true.size\n",
    "        return cost, grad\n",
    "\n",
    "    @staticmethod\n",
    "    def binary_cross_entropy(y_true, y_pred):\n",
    "        eps = 1e-15  # to avoid log(0)\n",
    "        y_pred = np.clip(y_pred, eps, 1 - eps)\n",
    "        cost = -np.mean(y_true * np.log(y_pred) + (1 - y_true) * np.log(1 - y_pred))\n",
    "        grad = (y_pred - y_true) / (y_pred * (1 - y_pred) * y_true.size)\n",
    "        return cost, grad\n",
    "\n",
    "    @staticmethod\n",
    "    def categorical_cross_entropy(y_true, y_pred):\n",
    "        eps = 1e-15  # to avoid log(0)\n",
    "        y_pred = np.clip(y_pred, eps, 1 - eps)\n",
    "        cost = -np.mean(np.sum(y_true * np.log(y_pred), axis=1))\n",
    "        grad = -y_true / y_pred / y_true.shape[0]\n",
    "        return cost, grad\n",
    "# ...existing code...\n",
    "\n",
    "\n",
    "# Example for Categorical Cross-Entropy\n",
    "y_true_cat = np.array([[1,0,0], [0,1,0], [0,0,1]])\n",
    "y_pred_cat = np.array([[0.8,0.1,0.1], [0.1,0.7,0.2], [0.1,0.2,0.7]])\n",
    "cce_cost, cce_grad = CostFunctions.categorical_cross_entropy(y_true_cat, y_pred_cat)\n",
    "print(\"\\nCategorical Cross-Entropy Cost:\", cce_cost)\n",
    "print(\"Categorical Cross-Entropy Gradient:\", cce_grad)\n",
    "# ...existing code..."
   ]
  }
 ],
 "metadata": {
  "kernelspec": {
   "display_name": "Python 3",
   "language": "python",
   "name": "python3"
  },
  "language_info": {
   "codemirror_mode": {
    "name": "ipython",
    "version": 3
   },
   "file_extension": ".py",
   "mimetype": "text/x-python",
   "name": "python",
   "nbconvert_exporter": "python",
   "pygments_lexer": "ipython3",
   "version": "3.13.3"
  }
 },
 "nbformat": 4,
 "nbformat_minor": 2
}
