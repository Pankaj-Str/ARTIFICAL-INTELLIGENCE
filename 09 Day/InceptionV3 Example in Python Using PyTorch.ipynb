{
 "cells": [
  {
   "cell_type": "code",
   "execution_count": 1,
   "id": "73786f43",
   "metadata": {},
   "outputs": [
    {
     "name": "stdout",
     "output_type": "stream",
     "text": [
      "Requirement already satisfied: torch in c:\\users\\programming\\appdata\\local\\programs\\python\\python313\\lib\\site-packages (2.7.1)\n",
      "Requirement already satisfied: torchvision in c:\\users\\programming\\appdata\\local\\programs\\python\\python313\\lib\\site-packages (0.22.1)\n",
      "Requirement already satisfied: pillow in c:\\users\\programming\\appdata\\local\\programs\\python\\python313\\lib\\site-packages (11.2.1)\n",
      "Requirement already satisfied: filelock in c:\\users\\programming\\appdata\\local\\programs\\python\\python313\\lib\\site-packages (from torch) (3.18.0)\n",
      "Requirement already satisfied: typing-extensions>=4.10.0 in c:\\users\\programming\\appdata\\local\\programs\\python\\python313\\lib\\site-packages (from torch) (4.14.0)\n",
      "Requirement already satisfied: sympy>=1.13.3 in c:\\users\\programming\\appdata\\local\\programs\\python\\python313\\lib\\site-packages (from torch) (1.14.0)\n",
      "Requirement already satisfied: networkx in c:\\users\\programming\\appdata\\local\\programs\\python\\python313\\lib\\site-packages (from torch) (3.5)\n",
      "Requirement already satisfied: jinja2 in c:\\users\\programming\\appdata\\local\\programs\\python\\python313\\lib\\site-packages (from torch) (3.1.6)\n",
      "Requirement already satisfied: fsspec in c:\\users\\programming\\appdata\\local\\programs\\python\\python313\\lib\\site-packages (from torch) (2025.5.1)\n",
      "Requirement already satisfied: setuptools in c:\\users\\programming\\appdata\\local\\programs\\python\\python313\\lib\\site-packages (from torch) (80.9.0)\n",
      "Requirement already satisfied: numpy in c:\\users\\programming\\appdata\\local\\programs\\python\\python313\\lib\\site-packages (from torchvision) (2.2.4)\n",
      "Requirement already satisfied: mpmath<1.4,>=1.1.0 in c:\\users\\programming\\appdata\\local\\programs\\python\\python313\\lib\\site-packages (from sympy>=1.13.3->torch) (1.3.0)\n",
      "Requirement already satisfied: MarkupSafe>=2.0 in c:\\users\\programming\\appdata\\local\\programs\\python\\python313\\lib\\site-packages (from jinja2->torch) (3.0.2)\n",
      "Note: you may need to restart the kernel to use updated packages.\n"
     ]
    }
   ],
   "source": [
    "%pip install torch torchvision pillow"
   ]
  },
  {
   "cell_type": "code",
   "execution_count": 2,
   "id": "99be239c",
   "metadata": {},
   "outputs": [
    {
     "name": "stderr",
     "output_type": "stream",
     "text": [
      "c:\\Users\\Programming\\AppData\\Local\\Programs\\Python\\Python313\\Lib\\site-packages\\torchvision\\models\\_utils.py:208: UserWarning: The parameter 'pretrained' is deprecated since 0.13 and may be removed in the future, please use 'weights' instead.\n",
      "  warnings.warn(\n",
      "c:\\Users\\Programming\\AppData\\Local\\Programs\\Python\\Python313\\Lib\\site-packages\\torchvision\\models\\_utils.py:223: UserWarning: Arguments other than a weight enum or `None` for 'weights' are deprecated since 0.13 and may be removed in the future. The current behavior is equivalent to passing `weights=Inception_V3_Weights.IMAGENET1K_V1`. You can also use `weights=Inception_V3_Weights.DEFAULT` to get the most up-to-date weights.\n",
      "  warnings.warn(msg)\n"
     ]
    },
    {
     "name": "stdout",
     "output_type": "stream",
     "text": [
      "\n",
      "Top-5 Predictions:\n",
      "Lhasa: 0.2035\n",
      "miniature poodle: 0.1859\n",
      "Maltese dog: 0.1300\n",
      "Norfolk terrier: 0.0899\n",
      "Tibetan terrier: 0.0751\n"
     ]
    }
   ],
   "source": [
    "import torch\n",
    "from torchvision import models, transforms\n",
    "from PIL import Image\n",
    "import requests\n",
    "from io import BytesIO\n",
    "import os\n",
    "\n",
    "# =============== Step 1: Load Pre-trained InceptionV3 Model ===============\n",
    "model = models.inception_v3(pretrained=True)\n",
    "model.eval()\n",
    "\n",
    "# =============== Step 2: Define Preprocessing ===============\n",
    "preprocess = transforms.Compose([\n",
    "    transforms.Resize(299),\n",
    "    transforms.CenterCrop(299),\n",
    "    transforms.ToTensor(),\n",
    "    transforms.Normalize(\n",
    "        mean=[0.485, 0.456, 0.406],  # ImageNet standards\n",
    "        std=[0.229, 0.224, 0.225]\n",
    "    )\n",
    "])\n",
    "\n",
    "# =============== Step 3: Load Image ===============\n",
    "\n",
    "# Option 1: Load from URL\n",
    "def load_image_from_url(url):\n",
    "    try:\n",
    "        response = requests.get(url)\n",
    "        response.raise_for_status()\n",
    "        img = Image.open(BytesIO(response.content)).convert(\"RGB\")\n",
    "        return img\n",
    "    except Exception as e:\n",
    "        print(\"Error loading image from URL:\", e)\n",
    "        return None\n",
    "\n",
    "# Option 2: Load local image\n",
    "def load_image_from_file(file_path):\n",
    "    try:\n",
    "        img = Image.open(file_path).convert(\"RGB\")\n",
    "        return img\n",
    "    except Exception as e:\n",
    "        print(\"Error loading local image:\", e)\n",
    "        return None\n",
    "\n",
    "# Choose one of the options below:\n",
    "# 1. From URL\n",
    "img_url = \"https://hips.hearstapps.com/hmg-prod/images/small-fluffy-dog-breeds-maltipoo-663009b6293cc.jpg\"\n",
    "img = load_image_from_url(img_url)\n",
    "\n",
    "# 2. From local file (uncomment to use local file)\n",
    "# img_path = \"your_image.jpg\"\n",
    "# img = load_image_from_file(img_path)\n",
    "\n",
    "if img is None:\n",
    "    print(\"Image loading failed. Exiting.\")\n",
    "    exit()\n",
    "\n",
    "# =============== Step 4: Preprocess and Predict ===============\n",
    "img_t = preprocess(img)\n",
    "batch_t = torch.unsqueeze(img_t, 0)  # add batch dimension\n",
    "\n",
    "with torch.no_grad():\n",
    "    output = model(batch_t)\n",
    "\n",
    "# =============== Step 5: Decode Predictions ===============\n",
    "# Download labels from ImageNet if not available\n",
    "LABELS_URL = \"https://factsanddetails.com/media/2/20120518-Starfish_02_(paulshaffner).jpg\"\n",
    "labels_path = \"imagenet_classes.txt\"\n",
    "\n",
    "if not os.path.exists(labels_path):\n",
    "    with open(labels_path, \"w\") as f:\n",
    "        f.write(requests.get(LABELS_URL).text)\n",
    "\n",
    "# Read class names\n",
    "with open(labels_path) as f:\n",
    "    categories = [line.strip() for line in f.readlines()]\n",
    "\n",
    "# Softmax and Top-5 predictions\n",
    "probabilities = torch.nn.functional.softmax(output[0], dim=0)\n",
    "top5_prob, top5_catid = torch.topk(probabilities, 5)\n",
    "\n",
    "print(\"\\nTop-5 Predictions:\")\n",
    "for i in range(top5_prob.size(0)):\n",
    "    print(f\"{categories[top5_catid[i]]}: {top5_prob[i].item():.4f}\")\n"
   ]
  },
  {
   "cell_type": "code",
   "execution_count": 3,
   "id": "8dfb67bb",
   "metadata": {},
   "outputs": [],
   "source": [
    "import requests\n",
    "from PIL import Image\n",
    "from io import BytesIO\n",
    "\n",
    "# Use a working image URL\n",
    "url = \"https://factsanddetails.com/media/2/20120518-Starfish_02_(paulshaffner).jpg\"\n",
    "\n",
    "# Download the image\n",
    "response = requests.get(url)\n",
    "\n",
    "# Check if image downloaded successfully\n",
    "if response.status_code == 200:\n",
    "    try:\n",
    "        img = Image.open(BytesIO(response.content)).convert('RGB')\n",
    "        img.show()  # optional: show image to verify\n",
    "    except Exception as e:\n",
    "        print(\"Failed to open image:\", e)\n",
    "else:\n",
    "    print(\"Failed to download image. Status code:\", response.status_code)\n"
   ]
  }
 ],
 "metadata": {
  "kernelspec": {
   "display_name": "Python 3",
   "language": "python",
   "name": "python3"
  },
  "language_info": {
   "codemirror_mode": {
    "name": "ipython",
    "version": 3
   },
   "file_extension": ".py",
   "mimetype": "text/x-python",
   "name": "python",
   "nbconvert_exporter": "python",
   "pygments_lexer": "ipython3",
   "version": "3.13.5"
  }
 },
 "nbformat": 4,
 "nbformat_minor": 5
}
