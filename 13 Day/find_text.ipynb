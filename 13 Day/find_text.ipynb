{
 "cells": [
  {
   "cell_type": "code",
   "execution_count": null,
   "id": "ab9b3131",
   "metadata": {},
   "outputs": [],
   "source": [
    "# with open('data.txt', 'w') as f:\n",
    "#     f.write(\"FastText is great for text classification.\\n\")\n",
    "#     f.write(\"It works well with rare words.\\n\")\n",
    "#     f.write(\"Subword information helps with understanding morphology.\\n\")"
   ]
  },
  {
   "cell_type": "code",
   "execution_count": 6,
   "id": "ba2477fc",
   "metadata": {},
   "outputs": [],
   "source": [
    "# read file data\n",
    "with open('data.txt', 'r') as f:\n",
    "    data = f.read()\n",
    "    #print(data)"
   ]
  },
  {
   "cell_type": "code",
   "execution_count": 9,
   "id": "d49ef245",
   "metadata": {},
   "outputs": [
    {
     "name": "stdout",
     "output_type": "stream",
     "text": [
      "Extracted Text:\n",
      "Python\n",
      "Python\n",
      "Python\n",
      "Python\n",
      "Python\n",
      "Python\n",
      "Python\n",
      "Python\n",
      "Python\n",
      "Python\n",
      "Python\n",
      "Python\n",
      "Python\n",
      "Python\n",
      "Python\n",
      "Python\n",
      "Python\n",
      "Python\n",
      "Python\n",
      "Total matches found: 19\n"
     ]
    }
   ],
   "source": [
    "import re\n",
    "\n",
    "# Example paragraph\n",
    "# paragraph = \"\"\"\n",
    "# Artificial Intelligence (AI) is a field of computer science that focuses on \n",
    "# creating systems capable of performing tasks that normally require human intelligence. \n",
    "# Examples include speech recognition, decision-making, and visual perception.\n",
    "# \"\"\"\n",
    "\n",
    "paragraph = data\n",
    "\n",
    "# Define a pattern to extract specific text (e.g., sentences mentioning \"AI\")\n",
    "pattern = r\"Python\"\n",
    "\n",
    "# Extract text using regular expression\n",
    "matches = re.findall(pattern, paragraph)\n",
    "\n",
    "# Print the extracted text\n",
    "if matches:\n",
    "    print(\"Extracted Text:\")\n",
    "    for match in matches:\n",
    "        print(match)\n",
    "else:\n",
    "    print(\"No matches found.\")\n",
    "    \n",
    "count = len(matches)\n",
    "print(f\"Total matches found: {count}\")    "
   ]
  },
  {
   "cell_type": "code",
   "execution_count": 10,
   "id": "460206cf",
   "metadata": {},
   "outputs": [
    {
     "name": "stdout",
     "output_type": "stream",
     "text": [
      "\n",
      "Updated Paragraph:\n",
      "Python Programming is a high-level, versatile, and popular programming language known for its readability and simplicity. It supports multiple programming paradigms, including procedural, object-oriented, and functional programming, making it suitable for a wide range of applications. Python Programming is widely used in web development, software development, data science, machine learning, and automation. \n",
      "Key characteristics of Python Programming:\n",
      "High-level:\n",
      "Python Programming is considered a high-level language, meaning it abstracts away low-level details of computer hardware, making it easier to read and write code. \n",
      "Interpreted:\n",
      "Python Programming code is executed by an interpreter, which reads and executes the code line by line. This allows for faster prototyping and easier debugging. \n",
      "Object-oriented:\n",
      "Python Programming supports object-oriented programming, allowing developers to structure code around objects and their interactions. \n",
      "Dynamically Typed:\n",
      "Python Programming is dynamically typed, meaning that the data type of a variable is checked at runtime, rather than compile time. \n",
      "Easy to Read and Learn:\n",
      "Python Programming's syntax is designed to be clear and easy to understand, often resembling natural language, which makes it a good choice for beginners. \n",
      "Extensive Libraries and Frameworks:\n",
      "Python Programming boasts a vast collection of libraries and frameworks that provide pre-built functionalities for various tasks, such as web development, data analysis, and machine learning. \n",
      "Cross-Platform:\n",
      "Python Programming can run on different operating systems, including Windows, macOS, and Linux, making it highly portable. \n",
      "Open Source:\n",
      "Python Programming is free to use and distribute, with a large and active community that contributes to its development and support. \n",
      "Applications of Python Programming:\n",
      "Web Development:\n",
      "Python Programming frameworks like Django and Flask are popular for building web applications. \n",
      "Data Science and Machine Learning:\n",
      "Python Programming is the dominant language in data science, with libraries like Pandas, NumPy, and Scikit-learn. \n",
      "Automation:\n",
      "Python Programming can be used to automate repetitive tasks, such as file manipulation, system administration, and web scraping. \n",
      "Software Development:\n",
      "Python Programming is used for developing various types of software, including desktop applications, games, and tools. \n",
      "Scientific Computing:\n",
      "Python Programming is widely used in scientific research and engineering for numerical computations and simulations. \n",
      "In essence, Python Programming's versatility, readability, and extensive ecosystem make it a powerful and popular choice for a wide range of programming tasks. \n",
      "This video provides a full beginner's course on Python Programming:\n"
     ]
    }
   ],
   "source": [
    "# replace the pattern with a new string\n",
    "new_string = \"Python Programming\"\n",
    "updated_paragraph = re.sub(pattern, new_string, paragraph)\n",
    "# Print the updated paragraph\n",
    "print(\"\\nUpdated Paragraph:\")\n",
    "print(updated_paragraph)"
   ]
  },
  {
   "cell_type": "code",
   "execution_count": 11,
   "id": "c9e0361d",
   "metadata": {},
   "outputs": [
    {
     "name": "stdout",
     "output_type": "stream",
     "text": [
      "\n",
      "The file 'updated_data.txt' has been created with the updated content.\n"
     ]
    }
   ],
   "source": [
    "# create a new file with the updated content\n",
    "with open('updated_data.txt', 'w') as f:\n",
    "    f.write(updated_paragraph)\n",
    "# Print a message indicating the file has been updated\n",
    "print(\"\\nThe file 'updated_data.txt' has been created with the updated content.\")"
   ]
  }
 ],
 "metadata": {
  "kernelspec": {
   "display_name": "Python 3",
   "language": "python",
   "name": "python3"
  },
  "language_info": {
   "codemirror_mode": {
    "name": "ipython",
    "version": 3
   },
   "file_extension": ".py",
   "mimetype": "text/x-python",
   "name": "python",
   "nbconvert_exporter": "python",
   "pygments_lexer": "ipython3",
   "version": "3.13.5"
  }
 },
 "nbformat": 4,
 "nbformat_minor": 5
}
