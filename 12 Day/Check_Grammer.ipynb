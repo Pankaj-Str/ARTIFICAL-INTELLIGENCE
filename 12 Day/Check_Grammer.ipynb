{
 "cells": [
  {
   "cell_type": "code",
   "execution_count": 1,
   "id": "e6b550ed",
   "metadata": {},
   "outputs": [
    {
     "name": "stdout",
     "output_type": "stream",
     "text": [
      "Collecting language-tool-python\n",
      "  Downloading language_tool_python-2.9.4-py3-none-any.whl.metadata (55 kB)\n",
      "Requirement already satisfied: requests in c:\\users\\programming\\appdata\\local\\programs\\python\\python313\\lib\\site-packages (from language-tool-python) (2.32.3)\n",
      "Requirement already satisfied: tqdm in c:\\users\\programming\\appdata\\local\\programs\\python\\python313\\lib\\site-packages (from language-tool-python) (4.67.1)\n",
      "Requirement already satisfied: psutil in c:\\users\\programming\\appdata\\roaming\\python\\python313\\site-packages (from language-tool-python) (7.0.0)\n",
      "Collecting toml (from language-tool-python)\n",
      "  Downloading toml-0.10.2-py2.py3-none-any.whl.metadata (7.1 kB)\n",
      "Requirement already satisfied: charset-normalizer<4,>=2 in c:\\users\\programming\\appdata\\local\\programs\\python\\python313\\lib\\site-packages (from requests->language-tool-python) (3.4.1)\n",
      "Requirement already satisfied: idna<4,>=2.5 in c:\\users\\programming\\appdata\\local\\programs\\python\\python313\\lib\\site-packages (from requests->language-tool-python) (3.10)\n",
      "Requirement already satisfied: urllib3<3,>=1.21.1 in c:\\users\\programming\\appdata\\local\\programs\\python\\python313\\lib\\site-packages (from requests->language-tool-python) (2.3.0)\n",
      "Requirement already satisfied: certifi>=2017.4.17 in c:\\users\\programming\\appdata\\local\\programs\\python\\python313\\lib\\site-packages (from requests->language-tool-python) (2025.1.31)\n",
      "Requirement already satisfied: colorama in c:\\users\\programming\\appdata\\roaming\\python\\python313\\site-packages (from tqdm->language-tool-python) (0.4.6)\n",
      "Downloading language_tool_python-2.9.4-py3-none-any.whl (55 kB)\n",
      "Downloading toml-0.10.2-py2.py3-none-any.whl (16 kB)\n",
      "Installing collected packages: toml, language-tool-python\n",
      "\n",
      "   -------------------- ------------------- 1/2 [language-tool-python]\n",
      "   -------------------- ------------------- 1/2 [language-tool-python]\n",
      "   ---------------------------------------- 2/2 [language-tool-python]\n",
      "\n",
      "Successfully installed language-tool-python-2.9.4 toml-0.10.2\n",
      "Note: you may need to restart the kernel to use updated packages.\n"
     ]
    }
   ],
   "source": [
    "%pip install language-tool-python"
   ]
  },
  {
   "cell_type": "code",
   "execution_count": 2,
   "id": "feee8280",
   "metadata": {},
   "outputs": [],
   "source": [
    "import language_tool_python\n",
    "\n",
    "def correct_grammar(sentence):\n",
    "    # Initialize the LanguageTool object\n",
    "    tool = language_tool_python.LanguageTool('en-US')  # Specify the language (English - US)\n",
    "    \n",
    "    # Check for grammar mistakes in the sentence\n",
    "    matches = tool.check(sentence)\n",
    "    \n",
    "    # Correct the mistakes\n",
    "    corrected_sentence = language_tool_python.utils.correct(sentence, matches)\n",
    "    \n",
    "    return corrected_sentence\n",
    "\n"
   ]
  },
  {
   "cell_type": "code",
   "execution_count": 3,
   "id": "6156fa36",
   "metadata": {},
   "outputs": [
    {
     "name": "stderr",
     "output_type": "stream",
     "text": [
      "Downloading LanguageTool latest: 100%|██████████| 252M/252M [01:22<00:00, 3.06MB/s] \n",
      "Unzipping C:\\Users\\PROGRA~1\\AppData\\Local\\Temp\\tmpx1ecnyxy.zip to C:\\Users\\Programming\\.cache\\language_tool_python.\n",
      "Downloaded https://internal1.languagetool.org/snapshots/LanguageTool-latest-snapshot.zip to C:\\Users\\Programming\\.cache\\language_tool_python.\n"
     ]
    },
    {
     "name": "stdout",
     "output_type": "stream",
     "text": [
      "Original Sentence:  He go to the market yesterday and buy some vegetable.\n",
      "Corrected Sentence:  He goes to the market yesterday and buy some vegetable.\n"
     ]
    }
   ],
   "source": [
    "# Example usage\n",
    "input_sentence = \"He go to the market yesterday and buy some vegetable.\"\n",
    "corrected = correct_grammar(input_sentence)\n",
    "\n",
    "print(\"Original Sentence: \", input_sentence)\n",
    "print(\"Corrected Sentence: \", corrected)"
   ]
  },
  {
   "cell_type": "code",
   "execution_count": 7,
   "id": "1f259189",
   "metadata": {},
   "outputs": [
    {
     "name": "stdout",
     "output_type": "stream",
     "text": [
      "Original Sentence:   I am a apple and a banena. but I don't like the epple.\n",
      "Corrected Sentence:   I am an apple and a banana. But I don't like the Apple.\n"
     ]
    }
   ],
   "source": [
    "input_sentence = \" I am a apple and a banena. but I don't like the epple.\"\n",
    "corrected = correct_grammar(input_sentence)\n",
    "\n",
    "print(\"Original Sentence: \", input_sentence)\n",
    "print(\"Corrected Sentence: \", corrected)"
   ]
  },
  {
   "cell_type": "code",
   "execution_count": 14,
   "id": "133ea270",
   "metadata": {},
   "outputs": [
    {
     "name": "stdout",
     "output_type": "stream",
     "text": [
      "Original Query: dode\n",
      "Corrected Query: Thank you for your query: code\n"
     ]
    }
   ],
   "source": [
    "from autocorrect import Speller\n",
    "\n",
    "class SpellingCorrector:\n",
    "    def __init__(self):\n",
    "        self.spell = Speller(lang='en')\n",
    "\n",
    "    def correct_spelling(self, query):\n",
    "        corrected_query = self.spell(query)\n",
    "        return corrected_query\n",
    "\n",
    "class CustomerSupport:\n",
    "    def __init__(self):\n",
    "        self.spelling_corrector = SpellingCorrector()\n",
    "\n",
    "    def process_query(self, query):\n",
    "        corrected_query = self.spelling_corrector.correct_spelling(query)\n",
    "        \n",
    "        response = self.generate_response(corrected_query)\n",
    "        return response\n",
    "\n",
    "    def generate_response(self, query):\n",
    "        \n",
    "        return \"Thank you for your query: \" + query\n",
    "\n",
    "\n",
    "def take_user_input():\n",
    "    return input(\"Please enter your query: \")\n",
    "\n",
    "\n",
    "if __name__ == \"__main__\":\n",
    "    support = CustomerSupport()\n",
    "    query = take_user_input()\n",
    "    response = support.process_query(query)\n",
    "    print(\"Original Query:\", query)\n",
    "    print(\"Corrected Query:\", response)\n"
   ]
  }
 ],
 "metadata": {
  "kernelspec": {
   "display_name": "Python 3",
   "language": "python",
   "name": "python3"
  },
  "language_info": {
   "codemirror_mode": {
    "name": "ipython",
    "version": 3
   },
   "file_extension": ".py",
   "mimetype": "text/x-python",
   "name": "python",
   "nbconvert_exporter": "python",
   "pygments_lexer": "ipython3",
   "version": "3.13.5"
  }
 },
 "nbformat": 4,
 "nbformat_minor": 5
}
